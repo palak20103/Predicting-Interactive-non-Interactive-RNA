{
  "nbformat": 4,
  "nbformat_minor": 0,
  "metadata": {
    "colab": {
      "name": "BDMH_A2_Group4.ipynb",
      "provenance": [],
      "collapsed_sections": []
    },
    "kernelspec": {
      "name": "python3",
      "display_name": "Python 3"
    },
    "language_info": {
      "name": "python"
    }
  },
  "cells": [
    {
      "cell_type": "markdown",
      "metadata": {
        "id": "6mJR41qLQWuM"
      },
      "source": [
        "# Mount the Drive"
      ]
    },
    {
      "cell_type": "code",
      "metadata": {
        "id": "ehttodHAKTjo",
        "colab": {
          "base_uri": "https://localhost:8080/"
        },
        "outputId": "0173fc39-10a6-4af3-e6db-02cb124af5fe"
      },
      "source": [
        "from google.colab import drive\n",
        "drive.mount('/content/drive')"
      ],
      "execution_count": null,
      "outputs": [
        {
          "output_type": "stream",
          "text": [
            "Mounted at /content/drive\n"
          ],
          "name": "stdout"
        }
      ]
    },
    {
      "cell_type": "markdown",
      "metadata": {
        "id": "UcEJheqSQdKc"
      },
      "source": [
        "# Import Libraries"
      ]
    },
    {
      "cell_type": "code",
      "metadata": {
        "colab": {
          "base_uri": "https://localhost:8080/"
        },
        "id": "zRQXp03dl9po",
        "outputId": "8580a316-df1c-43f0-cb31-7964c41d994d"
      },
      "source": [
        "import matplotlib.pyplot as plt\n",
        "import pickle\n",
        "import matplotlib.patches as mpatches\n",
        "import pandas as pd\n",
        "from sklearn.model_selection import train_test_split\n",
        "import numpy as np\n",
        "from sklearn.metrics import scorer, accuracy_score, f1_score, confusion_matrix, roc_auc_score\n",
        "from sklearn.ensemble import VotingClassifier\n",
        "from sklearn.ensemble import RandomForestClassifier\n",
        "from sklearn.ensemble import GradientBoostingClassifier\n",
        "from sklearn.ensemble import ExtraTreesClassifier\n",
        "from sklearn.metrics import matthews_corrcoef\n",
        "from imblearn.over_sampling import RandomOverSampler"
      ],
      "execution_count": null,
      "outputs": [
        {
          "output_type": "stream",
          "text": [
            "/usr/local/lib/python3.7/dist-packages/sklearn/utils/deprecation.py:144: FutureWarning: The sklearn.metrics.scorer module is  deprecated in version 0.22 and will be removed in version 0.24. The corresponding classes / functions should instead be imported from sklearn.metrics. Anything that cannot be imported from sklearn.metrics is now part of the private API.\n",
            "  warnings.warn(message, FutureWarning)\n",
            "/usr/local/lib/python3.7/dist-packages/sklearn/externals/six.py:31: FutureWarning: The module is deprecated in version 0.21 and will be removed in version 0.23 since we've dropped support for Python 2.7. Please rely on the official version of six (https://pypi.org/project/six/).\n",
            "  \"(https://pypi.org/project/six/).\", FutureWarning)\n",
            "/usr/local/lib/python3.7/dist-packages/sklearn/utils/deprecation.py:144: FutureWarning: The sklearn.neighbors.base module is  deprecated in version 0.22 and will be removed in version 0.24. The corresponding classes / functions should instead be imported from sklearn.neighbors. Anything that cannot be imported from sklearn.neighbors is now part of the private API.\n",
            "  warnings.warn(message, FutureWarning)\n"
          ],
          "name": "stderr"
        }
      ]
    },
    {
      "cell_type": "code",
      "metadata": {
        "colab": {
          "base_uri": "https://localhost:8080/",
          "height": 675
        },
        "id": "WXvTK5srSlAB",
        "outputId": "37afe5ec-c798-452e-84e9-05cfd3a42bc7"
      },
      "source": [
        "#Model 3: Using GradientBoostingClassifier,RandomForestClassifier,ExtraTreesClassifier,VotingClassifier \n",
        "def Model3(X_over, y_over,X_test,test):\n",
        "    #  clf1 = RandomForestClassifier(n_estimators=200)\n",
        "    #  clf3= ExtraTreesClassifier(n_estimators=200)\n",
        "    #  clf2= GradientBoostingClassifier(n_estimators=100, learning_rate=1.0, random_state=0)\n",
        "    #  eclf = VotingClassifier(estimators=[('rf', clf1), ('e', clf2), ('g', clf3)],voting='hard')\n",
        "    #  clf1 = clf1.fit(X_over, y_over)\n",
        "    #  clf2 = clf2.fit(X_over, y_over)\n",
        "    #  clf3 = clf3.fit(X_over, y_over)\n",
        "    #  eclf = eclf.fit(X_over, y_over)\n",
        "    # pickle.dump(eclf, open('/content/drive/My Drive/BDMH/model3.sav', 'wb'))\n",
        "     eclf = pickle.load(open('/content/drive/My Drive/BDMH/model3.sav', 'rb'))\n",
        "     ypred=eclf.predict(X_test)\n",
        "     ypp = pd.DataFrame(index=test['Sequence'])\n",
        "     ypp['label']=ypred\n",
        "     ypp.to_csv (r'/content/drive/My Drive/result3.csv', index = False, header=True) #for saving as csv in drive\n",
        "\n",
        "#Model 2: Using ExtraTreesClassifier\n",
        "def Model2(X_over, y_over,X_test,test):\n",
        "    #  etcf = ExtraTreesClassifier(n_estimators=200)\n",
        "    #  etcf.fit(X_over, y_over)\n",
        "    #  pickle.dump(etcf, open('/content/drive/My Drive/BDMH/model2.sav', 'wb'))\n",
        "     etcf = pickle.load(open('/content/drive/My Drive/BDMH/model2.sav', 'rb'))\n",
        "     ypred=etcf.predict(X_test)\n",
        "     ypp = pd.DataFrame(index=test['Sequence'])\n",
        "     ypp['label']=ypred\n",
        "     ypp.to_csv (r'/content/drive/My Drive/result2.csv', index = False, header=True) #for saving as csv in drive\n",
        "\n",
        "#Model 1: Using RandomForestClassifier\n",
        "def Model1(X_over, y_over,X_test,test):\n",
        "    #  rfc = RandomForestClassifier(n_estimators=200)\n",
        "    #  rfc.fit(X_over, y_over)\n",
        "    #  pickle.dump(rfc, open('/content/drive/My Drive/BDMH/model1.sav', 'wb'))\n",
        "     rfc = pickle.load(open('/content/drive/My Drive/BDMH/model1.sav', 'rb'))\n",
        "     ypred=rfc.predict(X_test)\n",
        "     ypp = pd.DataFrame(index=test['Sequence'])\n",
        "     ypp['label']=ypred\n",
        "     ypp.to_csv (r'/content/drive/My Drive/result1.csv', index = False, header=True) #for saving as csv in drive\n",
        "\n",
        "def method2(data,test): #method2 for encoding\n",
        "     AminoAcids = ['A','C','D','E','F','G','H','I','K','L','M','N','P','Q','R','S','T','V','W','Y']\n",
        "     DictAminoAcids = {'A':0,'C':1,'D':2,'E':3,'F':4,'G':5,'H':6,'I':7,'K':8,'L':9,'M':10,'N':11,'P':12,'Q':13,'R':14,'S':15,'T':16,'V':17,'W':18,'Y':19}\n",
        "     \n",
        "     zeroArray = np.zeros((data.shape[0],340))\n",
        "     zeroArray = zeroArray.astype('int')\n",
        "     X_train = pd.DataFrame(zeroArray)\n",
        "     for row in range(data.shape[0]):\n",
        "       for aa in range(0,16):\n",
        "        charAtpos = data.iloc[row]['Sequence'][aa]\n",
        "        if charAtpos !='X': #exclude X as it is padding\n",
        "          pt = DictAminoAcids[charAtpos]\n",
        "          X_train.iloc[row][pt*17+aa] = 1\n",
        "\n",
        "     zeroArray = np.zeros((test.shape[0],340))\n",
        "     zeroArray = zeroArray.astype('int')\n",
        "     X_test = pd.DataFrame(zeroArray)\n",
        "     for row in range(test.shape[0]):\n",
        "       for aa in range(0,16):\n",
        "         charAtpos = test.iloc[row]['Sequence'][aa]\n",
        "         if charAtpos !='X': #exclude X as it is padding\n",
        "           pt = DictAminoAcids[charAtpos]\n",
        "           X_test.iloc[row][pt*17+aa] = 1\n",
        "     return X_train,X_test\n",
        "\n",
        "#encoding method1\n",
        "def item_encoding(data,dict1):\n",
        "  new_list = []\n",
        "  for i in data['Sequence'].values:\n",
        "    t = []\n",
        "    for j in i:\n",
        "      t.append(dict1.get(j, 0))\n",
        "    new_list.append(np.array(t))\n",
        "  return new_list\n",
        "\n",
        "\n",
        "#runner function for the models\n",
        "def main(data,test):\n",
        "     # pre-processing the dataset, split the dataset in X and y\n",
        "     X = np.array(data.Sequence)\n",
        "     y = np.array(data.label)\n",
        "     X=pd.DataFrame(X,columns=['Sequence'])#for cmplt data\n",
        "     y=pd.DataFrame(y,columns=['label'])#for cmplt data\n",
        "\n",
        "     # plotting the Original Class Distribution before sampling\n",
        "     count_classes = pd.value_counts(y['label'], sort = True)\n",
        "     count_classes.plot(kind = 'bar', rot=0,color=['tab:red','tab:cyan'])\n",
        "     plt.xticks([1, 0], ('Positive', 'Negative'))\n",
        "     plt.title(\"Original Class Distribution\",fontsize=15)\n",
        "     plt.xlabel(\"Class\",fontsize=15)\n",
        "     plt.ylabel(\"Frequency\",fontsize=15)\n",
        "     plt.show()\n",
        "     plt.close()\n",
        "\n",
        "     #create the features for test and train data\n",
        "     #X_train,X_test = method2(data,test)\n",
        "     list1=[]\n",
        "     for i in data['Sequence']:\n",
        "        for j in i:\n",
        "          if j not in list1:\n",
        "            list1.append(j) #amino acids present\n",
        "     dict1 = {}\n",
        "     for i, val in enumerate(list1):\n",
        "      dict1[val] = i+1  #dictionary for amino acids\n",
        "\n",
        "     #print(dict1)\n",
        "     #print(\"Length of dict:\", len(dict1))\n",
        "     X_train = item_encoding(data,dict1) #encoded data\n",
        "     X_test = item_encoding(test,dict1)  #encoded data\n",
        "\n",
        "     # performing random-over sampling\n",
        "     oversample = RandomOverSampler(random_state=42)\n",
        "     X_over1, y_over1 =oversample.fit_resample(X_train,y)\n",
        "\n",
        "     # plotting OverSampled Class Distribution\n",
        "     count_classes = pd.value_counts(y_over1, sort = True)\n",
        "     count_classes.plot(kind = 'bar', rot=0,color=['tab:red','tab:cyan'])\n",
        "     plt.xticks([1, 0], ('Positive', 'Negative'))\n",
        "     plt.title(\"After sampling Class Distribution\",fontsize=15)\n",
        "     plt.xlabel(\"Class\",fontsize=15)\n",
        "     plt.ylabel(\"Frequency\",fontsize=15)\n",
        "     plt.show()\n",
        "     plt.close()\n",
        "\n",
        "     #applying models\n",
        "     \n",
        "     Model1(X_over1, y_over1, X_test,test)\n",
        "     Model2(X_over1, y_over1, X_test,test)\n",
        "     Model3(X_over1, y_over1, X_test,test)\n",
        "\n",
        "# Load the dataset from the drive\n",
        "data = pd.read_csv('/content/drive/MyDrive/BDMH/RNA_Train.csv')\n",
        "test = pd.read_csv('/content/drive/MyDrive/BDMH/test.csv')\n",
        "main(data,test)"
      ],
      "execution_count": null,
      "outputs": [
        {
          "output_type": "display_data",
          "data": {
            "image/png": "[encoded data removed]",
            "text/plain": [
              "<Figure size 432x288 with 1 Axes>"
            ]
          },
          "metadata": {
            "tags": [],
            "needs_background": "light"
          }
        },
        {
          "output_type": "stream",
          "text": [
            "/usr/local/lib/python3.7/dist-packages/sklearn/utils/validation.py:760: DataConversionWarning: A column-vector y was passed when a 1d array was expected. Please change the shape of y to (n_samples, ), for example using ravel().\n",
            "  y = column_or_1d(y, warn=True)\n",
            "/usr/local/lib/python3.7/dist-packages/sklearn/utils/deprecation.py:87: FutureWarning: Function safe_indexing is deprecated; safe_indexing is deprecated in version 0.22 and will be removed in version 0.24.\n",
            "  warnings.warn(msg, category=FutureWarning)\n"
          ],
          "name": "stderr"
        },
        {
          "output_type": "display_data",
          "data": {
            "image/png": "[encoded data removed]",
            "text/plain": [
              "<Figure size 432x288 with 1 Axes>"
            ]
          },
          "metadata": {
            "tags": [],
            "needs_background": "light"
          }
        }
      ]
    }
  ]
}